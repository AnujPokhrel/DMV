{
 "cells": [
  {
   "cell_type": "code",
   "execution_count": null,
   "id": "e162e750",
   "metadata": {},
   "outputs": [
    {
     "data": {
      "text/plain": [
       "<beamngpy.beamng.beamng.BeamNGpy at 0x7771cd2d3b60>"
      ]
     },
     "execution_count": 1,
     "metadata": {},
     "output_type": "execute_result"
    }
   ],
   "source": [
    "#basic import and open BeamNG\n",
    "from beamngpy import BeamNGpy, Scenario, Vehicle\n",
    "bng = BeamNGpy('localhost', 25252, home='/home/robotixx/Downloads/BeamNG.tech.v0.36.4.0')\n",
    "bng.open()"
   ]
  },
  {
   "cell_type": "code",
   "execution_count": null,
   "id": "51345b13",
   "metadata": {},
   "outputs": [],
   "source": [
    "#setup a scenario and vehicle with its position\n",
    "scenario = Scenario('west_coast_usa', 'example')\n",
    "vehicle = Vehicle('ego_vehicle', model='etk800', license=\"DHILO\")\n",
    "scenario.add_vehicle(vehicle, pos=(-717, 101, 118), rot_quat=(0, 0, 0.3826834, 0.9238795))\n",
    "scenario.make(bng)"
   ]
  },
  {
   "cell_type": "code",
   "execution_count": null,
   "id": "684e97ae",
   "metadata": {},
   "outputs": [],
   "source": [
    "#load the scenario into beamNG\n",
    "bng.scenario.load(scenario)\n",
    "bng.scenario.start()"
   ]
  },
  {
   "cell_type": "code",
   "execution_count": null,
   "id": "9ad15034",
   "metadata": {},
   "outputs": [
    {
     "data": {
      "text/plain": [
       "''"
      ]
     },
     "execution_count": 5,
     "metadata": {},
     "output_type": "execute_result"
    }
   ],
   "source": [
    "# Load the policy for the vehicle\n",
    "vehicle.ai.set_mode('traffic')\n",
    "input('Hit Enter When Done...')"
   ]
  },
  {
   "cell_type": "code",
   "execution_count": null,
   "id": "20ffcfaa",
   "metadata": {},
   "outputs": [],
   "source": [
    "#disconnect with BeamNG\n",
    "bng.disconnect()"
   ]
  },
  {
   "cell_type": "code",
   "execution_count": null,
   "id": "a0ee5b1c",
   "metadata": {},
   "outputs": [],
   "source": [
    "#close BeamNG\n",
    "bng.close()"
   ]
  }
 ],
 "metadata": {
  "kernelspec": {
   "display_name": "beampy",
   "language": "python",
   "name": "python3"
  },
  "language_info": {
   "codemirror_mode": {
    "name": "ipython",
    "version": 3
   },
   "file_extension": ".py",
   "mimetype": "text/x-python",
   "name": "python",
   "nbconvert_exporter": "python",
   "pygments_lexer": "ipython3",
   "version": "3.13.5"
  }
 },
 "nbformat": 4,
 "nbformat_minor": 5
}
