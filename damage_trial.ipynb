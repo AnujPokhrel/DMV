{
 "cells": [
  {
   "cell_type": "code",
   "execution_count": 67,
   "id": "1842b617",
   "metadata": {},
   "outputs": [],
   "source": [
    "from time import sleep\n",
    "\n",
    "from beamngpy import BeamNGpy, Scenario, Vehicle, set_up_simple_logging\n",
    "from beamngpy.sensors import Mesh, Damage, Camera"
   ]
  },
  {
   "cell_type": "code",
   "execution_count": 68,
   "id": "3e6533d3",
   "metadata": {},
   "outputs": [
    {
     "data": {
      "text/plain": [
       "<beamngpy.beamng.beamng.BeamNGpy at 0x7e7df4592710>"
      ]
     },
     "execution_count": 68,
     "metadata": {},
     "output_type": "execute_result"
    }
   ],
   "source": [
    "# bng = BeamNGpy(\"localhost\", 25252, home='/home/robotixx/Downloads/BeamNG.tech.v0.36.4.0', debug=True)\n",
    "# bng.open(launch=True)\n",
    "bng = BeamNGpy(\"localhost\", 25252)\n",
    "bng.open(launch=True)"
   ]
  },
  {
   "cell_type": "code",
   "execution_count": 69,
   "id": "fb7e147f",
   "metadata": {},
   "outputs": [],
   "source": [
    "vehicle = Vehicle(\"ego_vehicle\", model=\"rockbouncer\", license=\"DHILO\", color=\"Red\")\n",
    "vehicle.attach_sensor('damage', Damage())\n",
    "scenario = Scenario(\"industrial\", \"broken_mesh_test\", description=\"Mesh Analysis\")\n",
    "scenario.add_vehicle(\n",
    "        vehicle, pos=(408.36, -336.56, 35.54), rot_quat=(0,0, 0.99, -0.17)\n",
    "    )\n",
    "scenario.make(bng)\n",
    "bng.settings.set_deterministic(60)\n",
    "bng.scenario.load(scenario)\n",
    "bng.scenario.start()\n",
    "bng.step(60)\n"
   ]
  },
  {
   "cell_type": "code",
   "execution_count": null,
   "id": "22705322",
   "metadata": {},
   "outputs": [],
   "source": [
    "vehicle.send_damage([\n",
    "        ('front_left_suspension', 1.0, (0,0,0)),\n",
    "    ])"
   ]
  },
  {
   "cell_type": "code",
   "execution_count": null,
   "id": "39e8fcf6",
   "metadata": {},
   "outputs": [],
   "source": [
    "vehicle.queue_lua_command('beamstate.breakGroup(\"front_left_suspension\")')"
   ]
  },
  {
   "cell_type": "code",
   "execution_count": null,
   "id": "e9302990",
   "metadata": {},
   "outputs": [],
   "source": [
    "vehicle.queue_lua_command('obj:setTireBurst(2, true)')"
   ]
  },
  {
   "cell_type": "code",
   "execution_count": null,
   "id": "ecdd1c48",
   "metadata": {},
   "outputs": [],
   "source": [
    "vehicle.queue_lua_command('beamstate.breakGroup(\"engine\")')"
   ]
  },
  {
   "cell_type": "code",
   "execution_count": null,
   "id": "03f655b1",
   "metadata": {},
   "outputs": [],
   "source": [
    "vehicle.get_part_config()"
   ]
  },
  {
   "cell_type": "code",
   "execution_count": null,
   "id": "cc5160d1",
   "metadata": {},
   "outputs": [],
   "source": [
    "vehicle.poll_sensors"
   ]
  },
  {
   "cell_type": "code",
   "execution_count": null,
   "id": "ddefc4bd",
   "metadata": {},
   "outputs": [],
   "source": [
    "for k, v in pairs(beamstate.breakGroup) do print(k) end"
   ]
  },
  {
   "cell_type": "code",
   "execution_count": null,
   "id": "9857f0b1",
   "metadata": {},
   "outputs": [],
   "source": [
    "vehicles = bng.get_available_vehicles()\n",
    "vehicles"
   ]
  },
  {
   "cell_type": "code",
   "execution_count": null,
   "id": "5e7c1f0d",
   "metadata": {},
   "outputs": [],
   "source": [
    "vehicle.queue_lua_command('beamstate:breakGroup(\"wheel_FL\")')"
   ]
  },
  {
   "cell_type": "code",
   "execution_count": null,
   "id": "c6cd532e",
   "metadata": {},
   "outputs": [],
   "source": [
    "vehicle.get_center_of_gravity()"
   ]
  },
  {
   "cell_type": "code",
   "execution_count": null,
   "id": "ff8a4748",
   "metadata": {},
   "outputs": [],
   "source": [
    "vehicle.recover()"
   ]
  },
  {
   "cell_type": "code",
   "execution_count": null,
   "id": "bd7e29ec",
   "metadata": {},
   "outputs": [],
   "source": [
    "vehicle.queue_lua_command('obj:breakAllBreakGroups()')"
   ]
  },
  {
   "cell_type": "code",
   "execution_count": null,
   "id": "031352fb",
   "metadata": {},
   "outputs": [],
   "source": [
    "print(vehicle.is_connected)"
   ]
  },
  {
   "cell_type": "code",
   "execution_count": null,
   "id": "c59be3d2",
   "metadata": {},
   "outputs": [],
   "source": [
    "bng.step(80)"
   ]
  },
  {
   "cell_type": "code",
   "execution_count": null,
   "id": "da17c166",
   "metadata": {},
   "outputs": [],
   "source": [
    "vehicle.queue_lua_command('print(\"Hello from Lua!\")')"
   ]
  },
  {
   "cell_type": "code",
   "execution_count": 61,
   "id": "a7ab92fe",
   "metadata": {},
   "outputs": [],
   "source": [
    "camera = Camera(\n",
    "    \"front_cam\",\n",
    "    bng,\n",
    "    vehicle,\n",
    "    requested_update_time = 0.1,\n",
    "    is_using_shared_memory=True,\n",
    "    pos=(-0.3, 1, 2),\n",
    "    dir=(0, -1, 0),\n",
    "    field_of_view_y = 90,\n",
    "    near_far_planes=(0.1, 1000),\n",
    "    resolution=(1024, 1024),\n",
    "    is_streaming=True,\n",
    "    is_render_annotations=True,\n",
    "    is_render_instance=True,\n",
    "    is_render_depth=True,\n",
    ")"
   ]
  },
  {
   "cell_type": "code",
   "execution_count": 63,
   "id": "036a69cb",
   "metadata": {},
   "outputs": [
    {
     "name": "stdout",
     "output_type": "stream",
     "text": [
      "Showing images from the stream...\n",
      "Showing images from the stream...\n"
     ]
    },
    {
     "name": "stderr",
     "output_type": "stream",
     "text": [
      "\n",
      "(eog:14036): EOG-CRITICAL **: 16:08:02.274: eog_image_get_file: assertion 'EOG_IS_IMAGE (img)' failed\n",
      "\n",
      "(eog:14036): GLib-GIO-CRITICAL **: 16:08:02.274: g_file_equal: assertion 'G_IS_FILE (file1)' failed\n",
      "\n",
      "(eog:14036): EOG-CRITICAL **: 16:08:02.287: eog_image_get_file: assertion 'EOG_IS_IMAGE (img)' failed\n",
      "\n",
      "(eog:14036): GLib-GIO-CRITICAL **: 16:08:02.287: g_file_equal: assertion 'G_IS_FILE (file1)' failed\n"
     ]
    },
    {
     "name": "stdout",
     "output_type": "stream",
     "text": [
      "Showing images from the stream...\n"
     ]
    },
    {
     "name": "stderr",
     "output_type": "stream",
     "text": [
      "\n",
      "(eog:14036): EOG-CRITICAL **: 16:08:04.260: eog_image_get_file: assertion 'EOG_IS_IMAGE (img)' failed\n",
      "\n",
      "(eog:14036): GLib-GIO-CRITICAL **: 16:08:04.260: g_file_equal: assertion 'G_IS_FILE (file1)' failed\n",
      "\n",
      "(eog:14036): EOG-CRITICAL **: 16:08:04.273: eog_image_get_file: assertion 'EOG_IS_IMAGE (img)' failed\n",
      "\n",
      "(eog:14036): GLib-GIO-CRITICAL **: 16:08:04.273: g_file_equal: assertion 'G_IS_FILE (file1)' failed\n"
     ]
    },
    {
     "name": "stdout",
     "output_type": "stream",
     "text": [
      "Showing images from the stream...\n"
     ]
    },
    {
     "name": "stderr",
     "output_type": "stream",
     "text": [
      "\n",
      "(eog:14036): EOG-CRITICAL **: 16:08:06.237: eog_image_get_file: assertion 'EOG_IS_IMAGE (img)' failed\n",
      "\n",
      "(eog:14036): GLib-GIO-CRITICAL **: 16:08:06.237: g_file_equal: assertion 'G_IS_FILE (file1)' failed\n",
      "\n",
      "(eog:14036): EOG-CRITICAL **: 16:08:06.254: eog_image_get_file: assertion 'EOG_IS_IMAGE (img)' failed\n",
      "\n",
      "(eog:14036): GLib-GIO-CRITICAL **: 16:08:06.254: g_file_equal: assertion 'G_IS_FILE (file1)' failed\n"
     ]
    },
    {
     "name": "stdout",
     "output_type": "stream",
     "text": [
      "Showing images from the stream...\n"
     ]
    },
    {
     "name": "stderr",
     "output_type": "stream",
     "text": [
      "\n",
      "(eog:14036): EOG-CRITICAL **: 16:08:08.230: eog_image_get_file: assertion 'EOG_IS_IMAGE (img)' failed\n",
      "\n",
      "(eog:14036): GLib-GIO-CRITICAL **: 16:08:08.230: g_file_equal: assertion 'G_IS_FILE (file1)' failed\n",
      "\n",
      "(eog:14036): EOG-CRITICAL **: 16:08:08.243: eog_image_get_file: assertion 'EOG_IS_IMAGE (img)' failed\n",
      "\n",
      "(eog:14036): GLib-GIO-CRITICAL **: 16:08:08.243: g_file_equal: assertion 'G_IS_FILE (file1)' failed\n"
     ]
    }
   ],
   "source": [
    "for i in range(41):\n",
    "    bng.control.step(10)\n",
    "\n",
    "    raw_readings = camera.stream_raw()\n",
    "\n",
    "    if i % 10 == 0:\n",
    "        print(\"Showing images from the stream...\")\n",
    "\n",
    "        images = camera.stream()\n",
    "\n",
    "        if camera.is_render_colours:\n",
    "            images[\"colour\"].show()\n",
    "        if camera.is_render_annotations:\n",
    "            images[\"annotation\"].show()\n",
    "        if camera.is_render_depth:\n",
    "            images[\"depth\"].show()"
   ]
  },
  {
   "cell_type": "code",
   "execution_count": 72,
   "id": "5fd25219",
   "metadata": {},
   "outputs": [],
   "source": [
    "vehicle.queue_lua_command('energyStorage.getStorage(\"mainTank\"):setRemainingRatio(0.1)')"
   ]
  },
  {
   "cell_type": "code",
   "execution_count": 73,
   "id": "a0da511a",
   "metadata": {},
   "outputs": [],
   "source": [
    "vehicle.queue_lua_command('damageTracker.setDamage(\"engine\", \"radiatorLeak\", true)')"
   ]
  },
  {
   "cell_type": "code",
   "execution_count": null,
   "id": "bfd99b13",
   "metadata": {},
   "outputs": [],
   "source": []
  }
 ],
 "metadata": {
  "kernelspec": {
   "display_name": "beampy",
   "language": "python",
   "name": "python3"
  },
  "language_info": {
   "codemirror_mode": {
    "name": "ipython",
    "version": 3
   },
   "file_extension": ".py",
   "mimetype": "text/x-python",
   "name": "python",
   "nbconvert_exporter": "python",
   "pygments_lexer": "ipython3",
   "version": "3.13.5"
  }
 },
 "nbformat": 4,
 "nbformat_minor": 5
}
