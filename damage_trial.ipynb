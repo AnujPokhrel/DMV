{
 "cells": [
  {
   "cell_type": "code",
   "execution_count": 1,
   "id": "1842b617",
   "metadata": {},
   "outputs": [],
   "source": [
    "from time import sleep\n",
    "\n",
    "from beamngpy import BeamNGpy, Scenario, Vehicle, set_up_simple_logging\n",
    "from beamngpy.sensors import Mesh, Damage, Camera"
   ]
  },
  {
   "cell_type": "code",
   "execution_count": 2,
   "id": "3e6533d3",
   "metadata": {},
   "outputs": [
    {
     "data": {
      "text/plain": [
       "<beamngpy.beamng.beamng.BeamNGpy at 0x7ee2701378c0>"
      ]
     },
     "execution_count": 2,
     "metadata": {},
     "output_type": "execute_result"
    }
   ],
   "source": [
    "bng = BeamNGpy(\"localhost\", 25252, home='/home/vaderpc/BeamNG.tech.v0.36.4.0', debug=True)\n",
    "# bng.open(launch=True)\n",
    "# bng = BeamNGpy(\"localhost\", 25252)\n",
    "bng.open(None, listem_ip='*', launch=False)"
   ]
  },
  {
   "cell_type": "code",
   "execution_count": null,
   "id": "fb7e147f",
   "metadata": {},
   "outputs": [],
   "source": [
    "vehicle = Vehicle(\"ego_vehicle\", model=\"rockbouncer\", license=\"DHILO\", color=\"White\")\n",
    "vehicle.attach_sensor('damage', Damage())\n",
    "scenario = Scenario(\"smallgrid\", \"broken_mesh_test\", description=\"Mesh Analysis\")\n",
    "# scenario.add_vehicle(\n",
    "#         vehicle, pos=(408.36, -336.56, 35.54), rot_quat=(0,0, 0, 0.17)\n",
    "#     )\n",
    "\n",
    "scenario.add_vehicle(\n",
    "        vehicle, pos=(0, 0, 3), rot_quat=(0,0, 0.99, 3.0)\n",
    "    )\n",
    "scenario.make(bng)\n",
    "bng.settings.set_deterministic(60)\n",
    "bng.scenario.load(scenario)\n",
    "bng.scenario.start()\n",
    "bng.step(60)\n"
   ]
  },
  {
   "cell_type": "code",
   "execution_count": null,
   "id": "22705322",
   "metadata": {},
   "outputs": [],
   "source": [
    "vehicle.send_damage([\n",
    "        ('front_left_suspension', 1.0, (0,0,0)),\n",
    "    ])"
   ]
  },
  {
   "cell_type": "code",
   "execution_count": null,
   "id": "39e8fcf6",
   "metadata": {},
   "outputs": [],
   "source": [
    "vehicle.queue_lua_command('beamstate.breakGroup(\"front_left_suspension\")')"
   ]
  },
  {
   "cell_type": "code",
   "execution_count": null,
   "id": "e9302990",
   "metadata": {},
   "outputs": [],
   "source": [
    "vehicle.queue_lua_command('obj:setTireBurst(2, true)')"
   ]
  },
  {
   "cell_type": "code",
   "execution_count": null,
   "id": "ecdd1c48",
   "metadata": {},
   "outputs": [],
   "source": [
    "vehicle.queue_lua_command('beamstate.breakGroup(\"engine\")')"
   ]
  },
  {
   "cell_type": "code",
   "execution_count": null,
   "id": "03f655b1",
   "metadata": {},
   "outputs": [],
   "source": [
    "vehicle.get_part_config()"
   ]
  },
  {
   "cell_type": "code",
   "execution_count": null,
   "id": "cc5160d1",
   "metadata": {},
   "outputs": [],
   "source": [
    "vehicle.get_part_config()"
   ]
  },
  {
   "cell_type": "code",
   "execution_count": null,
   "id": "ddefc4bd",
   "metadata": {},
   "outputs": [],
   "source": [
    "for k, v in pairs(beamstate.breakGroup) do print(k) end"
   ]
  },
  {
   "cell_type": "code",
   "execution_count": null,
   "id": "9857f0b1",
   "metadata": {},
   "outputs": [],
   "source": [
    "vehicles = bng.get_available_vehicles()\n",
    "vehicles"
   ]
  },
  {
   "cell_type": "code",
   "execution_count": null,
   "id": "5e7c1f0d",
   "metadata": {},
   "outputs": [],
   "source": [
    "vehicle.queue_lua_command('beamstate:breakGroup(\"wheel_FL\")')"
   ]
  },
  {
   "cell_type": "code",
   "execution_count": null,
   "id": "c6cd532e",
   "metadata": {},
   "outputs": [],
   "source": [
    "vehicle.get_center_of_gravity()"
   ]
  },
  {
   "cell_type": "code",
   "execution_count": null,
   "id": "ff8a4748",
   "metadata": {},
   "outputs": [],
   "source": [
    "vehicle.recover()"
   ]
  },
  {
   "cell_type": "code",
   "execution_count": null,
   "id": "bd7e29ec",
   "metadata": {},
   "outputs": [],
   "source": [
    "vehicle.queue_lua_command('obj:breakAllBreakGroups()')"
   ]
  },
  {
   "cell_type": "code",
   "execution_count": null,
   "id": "031352fb",
   "metadata": {},
   "outputs": [],
   "source": [
    "print(vehicle.is_connected)"
   ]
  },
  {
   "cell_type": "code",
   "execution_count": null,
   "id": "c59be3d2",
   "metadata": {},
   "outputs": [],
   "source": [
    "bng.step(80)"
   ]
  },
  {
   "cell_type": "code",
   "execution_count": null,
   "id": "da17c166",
   "metadata": {},
   "outputs": [],
   "source": [
    "vehicle.queue_lua_command('print(\"Hello from Lua!\")')"
   ]
  },
  {
   "cell_type": "code",
   "execution_count": null,
   "id": "a7ab92fe",
   "metadata": {},
   "outputs": [],
   "source": [
    "camera = Camera(\n",
    "    \"front_cam\",\n",
    "    bng,\n",
    "    vehicle,\n",
    "    requested_update_time = 0.1,\n",
    "    is_using_shared_memory=True,\n",
    "    pos=(-0.3, 1, 2),\n",
    "    dir=(0, -1, 0), \n",
    "    field_of_view_y = 90,\n",
    "    near_far_planes=(0.1, 1000),\n",
    "    resolution=(1024, 1024),\n",
    "    is_streaming=True,\n",
    "    is_render_annotations=True,\n",
    "    is_render_instance=True,\n",
    "    is_render_depth=True,\n",
    ")"
   ]
  },
  {
   "cell_type": "code",
   "execution_count": 10,
   "id": "036a69cb",
   "metadata": {},
   "outputs": [
    {
     "name": "stdout",
     "output_type": "stream",
     "text": [
      "Showing images from the stream...\n",
      "Showing images from the stream...\n",
      "Showing images from the stream...\n"
     ]
    },
    {
     "name": "stderr",
     "output_type": "stream",
     "text": [
      "\n",
      "(eog:107276): EOG-CRITICAL **: 21:17:23.769: eog_image_get_file: assertion 'EOG_IS_IMAGE (img)' failed\n",
      "\n",
      "(eog:107276): GLib-GIO-CRITICAL **: 21:17:23.769: g_file_equal: assertion 'G_IS_FILE (file1)' failed\n"
     ]
    },
    {
     "name": "stdout",
     "output_type": "stream",
     "text": [
      "Showing images from the stream...\n"
     ]
    },
    {
     "name": "stderr",
     "output_type": "stream",
     "text": [
      "\n",
      "(eog:107276): EOG-CRITICAL **: 21:17:26.257: eog_job_thumbnail_cb: assertion 'EOG_IS_LIST_STORE (data)' failed\n",
      "\n",
      "(eog:107276): EOG-CRITICAL **: 21:17:26.257: eog_job_thumbnail_cb: assertion 'EOG_IS_LIST_STORE (data)' failed\n"
     ]
    },
    {
     "name": "stdout",
     "output_type": "stream",
     "text": [
      "Showing images from the stream...\n"
     ]
    }
   ],
   "source": [
    "for i in range(41):\n",
    "    bng.control.step(10)\n",
    "\n",
    "    raw_readings = camera.stream_raw()\n",
    "\n",
    "    if i % 10 == 0:\n",
    "        print(\"Showing images from the stream...\")\n",
    "\n",
    "        images = camera.stream()\n",
    "\n",
    "        if camera.is_render_colours:\n",
    "            images[\"colour\"].show()\n",
    "        if camera.is_render_annotations:\n",
    "            images[\"annotation\"].show()\n",
    "        if camera.is_render_depth:\n",
    "            images[\"depth\"].show()"
   ]
  },
  {
   "cell_type": "code",
   "execution_count": 72,
   "id": "5fd25219",
   "metadata": {},
   "outputs": [],
   "source": [
    "vehicle.queue_lua_command('energyStorage.getStorage(\"mainTank\"):setRemainingRatio(0.1)')"
   ]
  },
  {
   "cell_type": "code",
   "execution_count": 22,
   "id": "a0da511a",
   "metadata": {},
   "outputs": [],
   "source": [
    "vehicle.queue_lua_command('damageTracker.setDamage(\"engine\", \"radiatorLeak\", true)')"
   ]
  },
  {
   "cell_type": "code",
   "execution_count": 6,
   "id": "bfd99b13",
   "metadata": {},
   "outputs": [],
   "source": [
    "# vehicle.queue_lua_command('for k,v in pairs(damageTracker) do print(k) end')\n",
    "vehicle.queue_lua_command('for group, items in pairs(damageData) do for name, val in pairs(items) do print(group, name, val) end end')\n"
   ]
  },
  {
   "cell_type": "code",
   "execution_count": 13,
   "id": "4e042684",
   "metadata": {},
   "outputs": [],
   "source": [
    "damage_pairs = [\n",
    "    ('engine', 'radiatorLeak'),\n",
    "    ('engine', 'oilLeak'),\n",
    "    ('engine', 'brokenStarter'),\n",
    "    ('engine', 'seized'),\n",
    "    ('engine', 'engineFire'),\n",
    "    ('fuel', 'leak'),\n",
    "    ('brakes', 'brakeFluidLeak'),\n",
    "    ('transmission', 'clutchFailure'),\n",
    "    ('drivetrain', 'rearDifferential'),\n",
    "]\n",
    "\n",
    "for group, name in damage_pairs:\n",
    "    vehicle.queue_lua_command(f'print({group})')\n",
    "    vehicle.queue_lua_command(f'damageTracker.setDamage(\"{group}\", \"{name}\", true)')\n",
    "    bng.step(120)"
   ]
  },
  {
   "cell_type": "code",
   "execution_count": null,
   "id": "4cb2a226",
   "metadata": {},
   "outputs": [],
   "source": [
    "vehicle.queue_lua_command('groups.process()')"
   ]
  },
  {
   "cell_type": "code",
   "execution_count": null,
   "id": "ca541599",
   "metadata": {},
   "outputs": [],
   "source": [
    "vehicle.queue_lua_command('meshes.processFlexbodies()')"
   ]
  },
  {
   "cell_type": "code",
   "execution_count": 57,
   "id": "8c47a00e",
   "metadata": {},
   "outputs": [],
   "source": [
    "vehicle.queue_lua_command('damageTracker.setDamage(\"engine\", \"radiatorLeak\", true)')"
   ]
  },
  {
   "cell_type": "code",
   "execution_count": null,
   "id": "2fca82ec",
   "metadata": {},
   "outputs": [],
   "source": [
    "vehicle.get_part_config()"
   ]
  },
  {
   "cell_type": "code",
   "execution_count": 15,
   "id": "ab9d76f3",
   "metadata": {},
   "outputs": [],
   "source": [
    "vehicle = Vehicle('ego', model='etk800')\n",
    "vehicle.connect(bng)"
   ]
  },
  {
   "cell_type": "code",
   "execution_count": 17,
   "id": "9854df3f",
   "metadata": {},
   "outputs": [],
   "source": [
    "a = vehicle.poll_sensors()"
   ]
  },
  {
   "cell_type": "code",
   "execution_count": 32,
   "id": "adf513a3",
   "metadata": {},
   "outputs": [],
   "source": [
    "vehicle.queue_lua_command('powertrain.breakDevice(powertrain.getDevice(\"wheelaxleFL\"))')"
   ]
  },
  {
   "cell_type": "code",
   "execution_count": 39,
   "id": "2580d6f9",
   "metadata": {},
   "outputs": [],
   "source": [
    "vehicle.queue_lua_command('if wheels.wheels[0] then wheels.wheels[0]:setTireBurst(1) end')"
   ]
  },
  {
   "cell_type": "code",
   "execution_count": 65,
   "id": "916eee32",
   "metadata": {},
   "outputs": [],
   "source": [
    "lua_code1= \"\"\"\n",
    "damageTracker.setDamage(\"engine\", \"radiatorLeak\", true)\n",
    "energyStorage.getStorage(\"mainTank\"):setRemainingRatio(0.8)\n",
    "\"\"\"\n",
    "lua_code = \"\"\"\n",
    "for sys, tbl in pairs(damageTracker.damage) do\n",
    "  for dtype,_ in pairs(tbl) do\n",
    "    log('I','damageDump', sys..' → '..dtype)\n",
    "  end\n",
    "end\n",
    "\n",
    "\"\"\"\n",
    "\n",
    "vehicle.queue_lua_command(lua_code1)"
   ]
  },
  {
   "cell_type": "code",
   "execution_count": 66,
   "id": "a54d709c",
   "metadata": {},
   "outputs": [],
   "source": [
    "vehicle.queue_lua_command('print(\"howdy partner\")')"
   ]
  },
  {
   "cell_type": "code",
   "execution_count": 11,
   "id": "33e7a0eb",
   "metadata": {},
   "outputs": [],
   "source": [
    "lua_code = r'''\n",
    "-- list every active damage flag in the current vehicle\n",
    "local function dumpBreakGroups()\n",
    "  local n = obj:getBreakGroupCount()\n",
    "  for i = 0, n - 1 do\n",
    "    log('I','BG', string.format(\"%03d  %s\", i, obj:getBreakGroupName(i)))\n",
    "  end\n",
    "end\n",
    "dumpBreakGroups()\n",
    "'''\n",
    "\n",
    "vehicle.queue_lua_command(lua_code)\n"
   ]
  },
  {
   "cell_type": "code",
   "execution_count": 13,
   "id": "3d1fa321",
   "metadata": {},
   "outputs": [],
   "source": [
    "lua = r'''\n",
    "-- tear off both suspensions and burst every tyre\n",
    "local groups = {\n",
    "  \"rockbouncer_suspension_F_IFS\",\n",
    "  \"rockbouncer_suspension_R\"\n",
    "}\n",
    "for _,g in ipairs(groups) do\n",
    "  local n = obj:getBreakGroupCount()\n",
    "  for i=0,n-1 do\n",
    "    if obj:getBreakGroupName(i) == g then\n",
    "      obj:breakGroupIndex(i)    -- Tech-safe\n",
    "    end\n",
    "  end\n",
    "end\n",
    "for _,w in ipairs(wheels.wheels) do\n",
    "  w:setTireBurst(1)\n",
    "end\n",
    "'''\n",
    "vehicle.queue_lua_command(lua)\n"
   ]
  },
  {
   "cell_type": "code",
   "execution_count": 15,
   "id": "1a78dce2",
   "metadata": {},
   "outputs": [
    {
     "name": "stdout",
     "output_type": "stream",
     "text": [
      "None\n"
     ]
    }
   ],
   "source": [
    "lua_command = 'obj:getBeamCount(); local beams = obj:getBeams(); return beams'\n",
    "beams = vehicle.queue_lua_command(lua_command)\n",
    "print(beams)"
   ]
  },
  {
   "cell_type": "code",
   "execution_count": 16,
   "id": "3ff72aa0",
   "metadata": {},
   "outputs": [
    {
     "ename": "AttributeError",
     "evalue": "'Vehicle' object has no attribute 'data'",
     "output_type": "error",
     "traceback": [
      "\u001b[31m---------------------------------------------------------------------------\u001b[39m",
      "\u001b[31mAttributeError\u001b[39m                            Traceback (most recent call last)",
      "\u001b[36mCell\u001b[39m\u001b[36m \u001b[39m\u001b[32mIn[16]\u001b[39m\u001b[32m, line 1\u001b[39m\n\u001b[32m----> \u001b[39m\u001b[32m1\u001b[39m \u001b[43mvehicle\u001b[49m\u001b[43m.\u001b[49m\u001b[43mdata\u001b[49m.beams\n",
      "\u001b[31mAttributeError\u001b[39m: 'Vehicle' object has no attribute 'data'"
     ]
    }
   ],
   "source": [
    "vehicle.data.beams"
   ]
  },
  {
   "cell_type": "code",
   "execution_count": 19,
   "id": "811afbb4",
   "metadata": {},
   "outputs": [],
   "source": [
    "lua_code = r'''\n",
    "local cid2name = {}\n",
    "for name,c in pairs(beamstate.nodeNameMap) do cid2name[c] = name end\n",
    "\n",
    "local total = obj:getNodeCount()\n",
    "for cid = 0, total-1 do\n",
    "    local p = obj:getNodePosition(cid)               -- always returns vec3\n",
    "    log('I','nodeDump',\n",
    "        string.format(\"%03d  %-12s  (%.3f, %.3f, %.3f)\",\n",
    "            cid,\n",
    "            cid2name[cid] or \"<unnamed>\",\n",
    "            p.x, p.y, p.z))\n",
    "end\n",
    "'''\n",
    "vehicle.queue_lua_command(lua_code)"
   ]
  },
  {
   "cell_type": "code",
   "execution_count": 29,
   "id": "eada7f82",
   "metadata": {},
   "outputs": [],
   "source": [
    "vehicle.queue_lua_command('for k,v in pairs(powertrain.getDevices()) do print(k) end')"
   ]
  },
  {
   "cell_type": "code",
   "execution_count": 34,
   "id": "363f3367",
   "metadata": {},
   "outputs": [],
   "source": [
    "vehicle.queue_lua_command('beamstate.getPartDamageData()')"
   ]
  },
  {
   "cell_type": "code",
   "execution_count": 44,
   "id": "0924e015",
   "metadata": {},
   "outputs": [],
   "source": [
    "lua = r'''\n",
    "for _, partType in pairs(partTypeData) do\n",
    "   local split = split(partType, \":\")\n",
    "   if split[1] == \"jbeam\" and split[2] == \"breakGroup\" then\n",
    "     local breakGroupName = split[3]\n",
    "     table.insert(partBreakGroups, breakGroupName)\n",
    "   end\n",
    "end\n",
    "\n",
    "local breakGroupCount = #partBreakGroups\n",
    "local numberOfBrokenBreakGroups = breakGroupCount * (1 - integrityValue)\n",
    "local wholeNumberOfBrokenBreakGroups = floor(numberOfBrokenBreakGroups)\n",
    "local shuffledBreakGroups = arrayShuffle(partBreakGroups)\n",
    "for i = 1, wholeNumberOfBrokenBreakGroups do\n",
    "   table.insert(integrity.jbeam.brokenBreakGroups, shuffledBreakGroups[i])\n",
    "end\n",
    "vehicle.queue_lua_command(lua)\n",
    "'''\n",
    "\n",
    "vehicle.queue_lua_command(lua)\n"
   ]
  },
  {
   "cell_type": "code",
   "execution_count": 42,
   "id": "f2cb322b",
   "metadata": {},
   "outputs": [],
   "source": [
    "lua = r'''\n",
    "print(obj:getPosition().z)\n",
    "'''\n",
    "\n",
    "vehicle.queue_lua_command(lua)"
   ]
  },
  {
   "cell_type": "code",
   "execution_count": 5,
   "id": "444fc645",
   "metadata": {},
   "outputs": [],
   "source": [
    "lua_list_groups = r'''\n",
    "-- STEP 1: list all break-groups with their index\n",
    "local n = obj.getBreakGroupCount and obj:getBreakGroupCount() or 0\n",
    "log('I','BG', 'Total break-groups = '..tostring(n))\n",
    "\n",
    "for i = 0, n - 1 do\n",
    "  local name = obj:getBreakGroupName(i)\n",
    "  log('I','BG', string.format(\"%03d  %s\", i, name))\n",
    "end\n",
    "'''\n",
    "\n",
    "vehicle.queue_lua_command(lua_list_groups)\n",
    "\n"
   ]
  },
  {
   "cell_type": "code",
   "execution_count": 6,
   "id": "93659616",
   "metadata": {},
   "outputs": [],
   "source": [
    "lua_probe = r'''\n",
    "-- STEP 1 (bis):  check what functions actually exist\n",
    "local function p(key,val) log('I','DBG', key..' = '..tostring(val)) end\n",
    "\n",
    "p(\"obj.getBreakGroupCount\" , obj and obj.getBreakGroupCount)\n",
    "p(\"obj.breakGroupIndex\"    , obj and obj.breakGroupIndex)\n",
    "p(\"beamstate\"              , beamstate)\n",
    "p(\"beamstate.breakGroupName\", beamstate and beamstate.breakGroupName)\n",
    "p(\"beamstate.breakGroupCount\", beamstate and beamstate.breakGroupCount)\n",
    "'''\n",
    "\n",
    "vehicle.queue_lua_command(lua_probe)\n"
   ]
  },
  {
   "cell_type": "code",
   "execution_count": 7,
   "id": "9e8167a0",
   "metadata": {},
   "outputs": [],
   "source": [
    "lua_dump_bs = r'''\n",
    "-- STEP 2: list all keys present in the current beamstate table\n",
    "for k, _ in pairs(beamstate) do\n",
    "  log('I','BSKEY', k)\n",
    "end\n",
    "'''\n",
    "\n",
    "vehicle.queue_lua_command(lua_dump_bs)"
   ]
  },
  {
   "cell_type": "code",
   "execution_count": 8,
   "id": "4490b729",
   "metadata": {},
   "outputs": [],
   "source": [
    "vehicle.queue_lua_command('beamstate.breakAllBreakgroups()')"
   ]
  },
  {
   "cell_type": "code",
   "execution_count": 10,
   "id": "f8cc8fd1",
   "metadata": {},
   "outputs": [],
   "source": [
    "lua_list_bgroups = r'''\n",
    "-- STEP 2: enumerate actual break-group names\n",
    "local tbl = beamstate.deformGroupDamage or {}\n",
    "local cnt = 0\n",
    "for name,_ in pairs(tbl) do\n",
    "  cnt = cnt + 1\n",
    "  log('I','BGRP', string.format(\"%03d  %s\", cnt, name))\n",
    "end\n",
    "log('I','BGRP', \"Total groups found: \"..cnt)\n",
    "'''\n",
    "\n",
    "vehicle.queue_lua_command(lua_list_bgroups)\n",
    "\n"
   ]
  },
  {
   "cell_type": "code",
   "execution_count": 11,
   "id": "945fa26c",
   "metadata": {},
   "outputs": [],
   "source": [
    "lua_list_nodes = r'''\n",
    "-- prints every node index + name + position\n",
    "for id, nd in pairs(v.data.nodes) do\n",
    "  log('I','NODE', string.format(\"%03d  %-25s  (%.2f, %.2f, %.2f)\",\n",
    "      id, nd.name, nd.pos.x, nd.pos.y, nd.pos.z))\n",
    "end\n",
    "'''\n",
    "\n",
    "vehicle.queue_lua_command(lua_list_nodes)\n"
   ]
  },
  {
   "cell_type": "code",
   "execution_count": 17,
   "id": "d05aad45",
   "metadata": {},
   "outputs": [
    {
     "name": "stdout",
     "output_type": "stream",
     "text": [
      "obj:applyForce(0, {x=0, y=0, z=40000})\n"
     ]
    }
   ],
   "source": [
    "node = 0\n",
    "impulse = (0, 0, 40000)\n",
    "lua_command = f'obj:applyForce({node}, {{x={impulse[0]}, y={impulse[1]}, z={impulse[2]}}})'\n",
    "print(lua_command)\n",
    "vehicle.queue_lua_command(lua_command)"
   ]
  },
  {
   "cell_type": "code",
   "execution_count": 14,
   "id": "69571a71",
   "metadata": {},
   "outputs": [],
   "source": [
    "lua_check = r'''\n",
    "log('I','CHK', 'addImpulse = '..tostring(obj.addImpulse))\n",
    "'''\n",
    "\n",
    "vehicle.queue_lua_command(lua_check)"
   ]
  },
  {
   "cell_type": "code",
   "execution_count": 19,
   "id": "6505b31f",
   "metadata": {},
   "outputs": [
    {
     "name": "stdout",
     "output_type": "stream",
     "text": [
      "None\n"
     ]
    }
   ],
   "source": [
    "lua_command = 'return obj:getNodeName(0)'\n",
    "node_name = vehicle.queue_lua_command(lua_command)\n",
    "print(node_name)"
   ]
  },
  {
   "cell_type": "code",
   "execution_count": 20,
   "id": "040b41f3",
   "metadata": {},
   "outputs": [
    {
     "name": "stdout",
     "output_type": "stream",
     "text": [
      "None\n"
     ]
    }
   ],
   "source": [
    "lua_command = 'local beams = obj:getBeamCount(); local beam_list = {}; for i=0, beams-1 do table.insert(beam_list, i) end; return beam_list'\n",
    "beam_ids = vehicle.queue_lua_command(lua_command)\n",
    "print(beam_ids)"
   ]
  },
  {
   "cell_type": "code",
   "execution_count": 21,
   "id": "d20bae58",
   "metadata": {},
   "outputs": [],
   "source": [
    "beam_id = 42\n",
    "lua_command = f'v.data:beamBreak({beam_id})'\n",
    "vehicle.queue_lua_command(lua_command)"
   ]
  },
  {
   "cell_type": "code",
   "execution_count": 5,
   "id": "5541ae54",
   "metadata": {},
   "outputs": [],
   "source": [
    "lua_cmd = 'beamstate.breakBreakGroup(\"suspension_FR\")'\n",
    "vehicle.queue_lua_command(lua_cmd)"
   ]
  },
  {
   "cell_type": "code",
   "execution_count": 18,
   "id": "e508e12d",
   "metadata": {},
   "outputs": [],
   "source": [
    "lua_command = r'''\n",
    "local beamID = nil\n",
    "for _, beam in pairs(v.data.beams) do\n",
    "    if beam.name ~= nil then\n",
    "        print(beam.name)\n",
    "        print(beam.cid)\n",
    "    end\n",
    "end\n",
    "'''\n",
    "vehicle.queue_lua_command(lua_command)"
   ]
  },
  {
   "cell_type": "code",
   "execution_count": 22,
   "id": "b86f3d52",
   "metadata": {},
   "outputs": [],
   "source": [
    "lua_cmd = r'''\n",
    "obj:applyForceVector(1624, vec3(300000,40,10000))\n",
    "'''\n",
    "vehicle.queue_lua_command(lua_cmd)"
   ]
  },
  {
   "cell_type": "code",
   "execution_count": 30,
   "id": "6d65b658",
   "metadata": {},
   "outputs": [],
   "source": [
    "save_path = \"/tmp/rockbouncer_crash.vstate\"\n",
    "vehicle.queue_lua_command(f'beamstate.save(\"{save_path}\")')"
   ]
  },
  {
   "cell_type": "code",
   "execution_count": null,
   "id": "63053fd7",
   "metadata": {},
   "outputs": [],
   "source": []
  }
 ],
 "metadata": {
  "kernelspec": {
   "display_name": "beamng",
   "language": "python",
   "name": "python3"
  },
  "language_info": {
   "codemirror_mode": {
    "name": "ipython",
    "version": 3
   },
   "file_extension": ".py",
   "mimetype": "text/x-python",
   "name": "python",
   "nbconvert_exporter": "python",
   "pygments_lexer": "ipython3",
   "version": "3.12.11"
  }
 },
 "nbformat": 4,
 "nbformat_minor": 5
}
